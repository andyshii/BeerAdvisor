{
 "cells": [
  {
   "cell_type": "code",
   "execution_count": 1,
   "id": "c703d67e",
   "metadata": {},
   "outputs": [],
   "source": [
    "import pandas as pd"
   ]
  },
  {
   "cell_type": "code",
   "execution_count": 2,
   "id": "1d070acb",
   "metadata": {},
   "outputs": [],
   "source": [
    "data = pd.read_csv('../dataset_path_1.csv')"
   ]
  },
  {
   "cell_type": "code",
   "execution_count": null,
   "id": "7cc4ac6d",
   "metadata": {},
   "outputs": [],
   "source": [
    "#pd.concat([data, new_data], ignore_index=True)"
   ]
  },
  {
   "cell_type": "code",
   "execution_count": 3,
   "id": "445912f7",
   "metadata": {},
   "outputs": [],
   "source": [
    "for i in range(2, 31):\n",
    "    new_data = pd.read_csv(f'../dataset_path_{i}.csv')\n",
    "    data = pd.concat([data, new_data], ignore_index=True)         "
   ]
  },
  {
   "cell_type": "code",
   "execution_count": 5,
   "id": "aea6012a",
   "metadata": {},
   "outputs": [],
   "source": [
    "data.to_csv('../data_rezult.csv', sep=',', index=False)"
   ]
  }
 ],
 "metadata": {
  "kernelspec": {
   "display_name": "Python 3 (ipykernel)",
   "language": "python",
   "name": "python3"
  },
  "language_info": {
   "codemirror_mode": {
    "name": "ipython",
    "version": 3
   },
   "file_extension": ".py",
   "mimetype": "text/x-python",
   "name": "python",
   "nbconvert_exporter": "python",
   "pygments_lexer": "ipython3",
   "version": "3.9.7"
  }
 },
 "nbformat": 4,
 "nbformat_minor": 5
}
